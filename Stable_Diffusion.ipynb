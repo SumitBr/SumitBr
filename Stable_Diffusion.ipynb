{
  "nbformat": 4,
  "nbformat_minor": 0,
  "metadata": {
    "colab": {
      "private_outputs": true,
      "provenance": [],
      "include_colab_link": true
    },
    "kernelspec": {
      "name": "python3",
      "display_name": "Python 3"
    },
    "language_info": {
      "name": "python"
    },
    "accelerator": "GPU",
    "gpuClass": "standard"
  },
  "cells": [
    {
      "cell_type": "markdown",
      "metadata": {
        "id": "view-in-github",
        "colab_type": "text"
      },
      "source": [
        "<a href=\"https://colab.research.google.com/github/SumitBr/SumitBr/blob/main/Stable_Diffusion.ipynb\" target=\"_parent\"><img src=\"https://colab.research.google.com/assets/colab-badge.svg\" alt=\"Open In Colab\"/></a>"
      ]
    },
    {
      "cell_type": "markdown",
      "source": [
        "**Introduction**\n",
        "\n",
        "Video tutorial available here: https://www.youtube.com/watch?v=G4Q06-sEEQs\n",
        "\n",
        "With this notebook you can use stable diffusion to generate images. \n",
        "\n",
        "You need a hugging face account to use this notebook. You can sign up here: https://huggingface.co/join\n",
        "\n",
        "If you don't have a credential, follow the link in code snippet 2 to get one! Also make sure you follow the rules outlined in the License for the model, which can be found here: https://huggingface.co/spaces/CompVis/stable-diffusion-license\n",
        "\n",
        "Make sure you read the whole license including the use restrictions which are as follows:\n",
        "\n",
        "Use Restrictions \n",
        " \n",
        "You agree not to use the Model or Derivatives of the Model: \n",
        "- In any way that violates any applicable national, federal, state, local \n",
        "or international law or regulation; \n",
        "- For the purpose of exploiting, harming or attempting to exploit or harm \n",
        "minors in any way; \n",
        "- To generate or disseminate verifiably false information and/or content \n",
        "with the purpose of harming others; \n",
        "- To generate or disseminate personal identifiable information that can \n",
        "be used to harm an individual; \n",
        "- To defame, disparage or otherwise harass others; \n",
        "- For fully automated decision making that adversely impacts an \n",
        "individual’s legal rights or otherwise creates or modifies a binding, \n",
        "enforceable obligation; \n",
        "- For any use intended to or which has the effect of discriminating \n",
        "against or harming individuals or groups based on online or offline \n",
        "social behavior or known or predicted personal or personality \n",
        "characteristics; \n",
        "- To exploit any of the vulnerabilities of a specific group of persons \n",
        "based on their age, social, physical or mental characteristics, in order \n",
        "to materially distort the behavior of a person pertaining to that group \n",
        "in a manner that causes or is likely to cause that person or another \n",
        "person physical or psychological harm; \n",
        "- For any use intended to or which has the effect of discriminating \n",
        "against individuals or groups based on legally protected characteristics \n",
        "or categories; \n",
        "- To provide medical advice and medical results interpretation; \n",
        "- To generate or disseminate information for the purpose to be used for \n",
        "administration of justice, law enforcement, immigration or asylum \n",
        "processes, such as predicting an individual will commit fraud/crime \n",
        "commitment (e.g. by text profiling, drawing causal relationships between \n",
        "assertions made in documents, indiscriminate and arbitrarily-targeted \n",
        "use).\n",
        "\n",
        "I built this notebook using code from Woctezuma, check out their github here: https://github.com/woctezuma"
      ],
      "metadata": {
        "id": "92Hlz5VStwQb"
      }
    },
    {
      "cell_type": "code",
      "execution_count": null,
      "metadata": {
        "id": "QuFz5uGi-h6G"
      },
      "outputs": [],
      "source": [
        "%pip install --quiet --upgrade diffusers transformers scipy mediapy accelerate"
      ]
    },
    {
      "cell_type": "markdown",
      "source": [
        "In this block of code it will ask for your token from Hugging Face. \n",
        "\n",
        "If you don't have an account you can make one here: https://huggingface.co/join\n",
        "\n",
        "Before you can do this you need to accept the license agreement for the model, which you can do here: https://huggingface.co/CompVis/stable-diffusion-v1-4\n",
        "\n",
        "On the token page select \"new token\" and ask for a \"read\" token (you can name it \"Colab\")."
      ],
      "metadata": {
        "id": "8pkEI3oVt_QD"
      }
    },
    {
      "cell_type": "code",
      "source": [
        "!huggingface-cli login"
      ],
      "metadata": {
        "id": "GR4vF2bw-sHR"
      },
      "execution_count": null,
      "outputs": []
    },
    {
      "cell_type": "markdown",
      "source": [
        "Now we set up our model and pipeline. IF you want to remove the NSFW safety checker, change \"remove_safety\" to \"True\"."
      ],
      "metadata": {
        "id": "JAA8E3zXuKm1"
      }
    },
    {
      "cell_type": "code",
      "source": [
        "from diffusers import PNDMScheduler, DDIMScheduler, LMSDiscreteScheduler\n",
        "\n",
        "scheduler = PNDMScheduler(beta_start=0.00085, beta_end=0.012, beta_schedule=\"scaled_linear\", skip_prk_steps=True)"
      ],
      "metadata": {
        "id": "vF9Q0xKX8gLR"
      },
      "execution_count": null,
      "outputs": []
    },
    {
      "cell_type": "code",
      "source": [
        "import mediapy as media\n",
        "import torch\n",
        "from torch import autocast\n",
        "from diffusers import StableDiffusionPipeline\n",
        "\n",
        "model_id = \"CompVis/stable-diffusion-v1-4\"\n",
        "device = \"cuda\"\n",
        "remove_safety = False\n",
        "\n",
        "\n",
        "pipe = StableDiffusionPipeline.from_pretrained(model_id, scheduler=scheduler, torch_dtype=torch.float16, revision=\"fp16\", use_auth_token=True)\n",
        "if remove_safety:\n",
        "  pipe.safety_checker = lambda images, clip_input: (images, False)\n",
        "pipe = pipe.to(device)\n",
        "\n"
      ],
      "metadata": {
        "id": "bG2hkmSEvByV"
      },
      "execution_count": null,
      "outputs": []
    },
    {
      "cell_type": "markdown",
      "source": [
        "Here is where you actually make images. Change the \"prompt\" to whatever you want to try and then change \"num_images\" if you want more than one image generated. You can re-run this cell without having to re-run everything before it, just FYI."
      ],
      "metadata": {
        "id": "IoTE794luOXD"
      }
    },
    {
      "cell_type": "code",
      "source": [],
      "metadata": {
        "id": "J0waG8APphpC"
      },
      "execution_count": null,
      "outputs": []
    },
    {
      "cell_type": "code",
      "source": [
        "prompt = \"photo of human hands\"\n",
        "num_images = 2\n",
        "\n",
        "prompts = [ prompt ] * num_images\n",
        "with autocast(\"cuda\"):\n",
        "    images = pipe(prompts, guidance_scale=7.5, num_inference_steps=50).images\n",
        "    \n",
        "media.show_images(images)\n",
        "images[0].save(\"output.jpg\")"
      ],
      "metadata": {
        "id": "AUc4QJfE-uR9"
      },
      "execution_count": null,
      "outputs": []
    },
    {
      "cell_type": "code",
      "source": [
        "!ls"
      ],
      "metadata": {
        "id": "Mh1RCznkSwCb"
      },
      "execution_count": null,
      "outputs": []
    }
  ]
}